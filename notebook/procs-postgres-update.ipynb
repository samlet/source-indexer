{
 "cells": [
  {
   "cell_type": "code",
   "execution_count": null,
   "metadata": {},
   "outputs": [],
   "source": [
    "import psycopg2\n",
    "from sagas.profile.connections import config\n",
    "\n",
    "def update_vendor(vendor_id, vendor_name):\n",
    "    \"\"\" update vendor name based on the vendor id \"\"\"\n",
    "    sql = \"\"\" UPDATE vendors\n",
    "                SET vendor_name = %s\n",
    "                WHERE vendor_id = %s\"\"\"\n",
    "    conn = None\n",
    "    updated_rows = 0\n",
    "    try:\n",
    "        # read database configuration\n",
    "        params = config()\n",
    "        # connect to the PostgreSQL database\n",
    "        conn = psycopg2.connect(**params)\n",
    "        # create a new cursor\n",
    "        cur = conn.cursor()\n",
    "        # execute the UPDATE  statement\n",
    "        cur.execute(sql, (vendor_name, vendor_id))\n",
    "        # get the number of updated rows\n",
    "        updated_rows = cur.rowcount\n",
    "        # Commit the changes to the database\n",
    "        conn.commit()\n",
    "        # Close communication with the PostgreSQL database\n",
    "        cur.close()\n",
    "    except (Exception, psycopg2.DatabaseError) as error:\n",
    "        print(error)\n",
    "    finally:\n",
    "        if conn is not None:\n",
    "            conn.close()\n",
    "\n",
    "    return updated_rows\n"
   ]
  }
 ],
 "metadata": {
  "kernelspec": {
   "display_name": "Python 3",
   "language": "python",
   "name": "python3"
  },
  "language_info": {
   "codemirror_mode": {
    "name": "ipython",
    "version": 3
   },
   "file_extension": ".py",
   "mimetype": "text/x-python",
   "name": "python",
   "nbconvert_exporter": "python",
   "pygments_lexer": "ipython3",
   "version": "3.7.7"
  },
  "varInspector": {
   "cols": {
    "lenName": 16,
    "lenType": 16,
    "lenVar": 40
   },
   "kernels_config": {
    "python": {
     "delete_cmd_postfix": "",
     "delete_cmd_prefix": "del ",
     "library": "var_list.py",
     "varRefreshCmd": "print(var_dic_list())"
    },
    "r": {
     "delete_cmd_postfix": ") ",
     "delete_cmd_prefix": "rm(",
     "library": "var_list.r",
     "varRefreshCmd": "cat(var_dic_list()) "
    }
   },
   "types_to_exclude": [
    "module",
    "function",
    "builtin_function_or_method",
    "instance",
    "_Feature"
   ],
   "window_display": false
  }
 },
 "nbformat": 4,
 "nbformat_minor": 4
}
