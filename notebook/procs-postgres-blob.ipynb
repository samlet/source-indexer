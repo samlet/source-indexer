{
 "cells": [
  {
   "cell_type": "code",
   "execution_count": 1,
   "metadata": {
    "ExecuteTime": {
     "end_time": "2020-07-15T08:28:19.578365Z",
     "start_time": "2020-07-15T08:28:19.184031Z"
    }
   },
   "outputs": [],
   "source": [
    "import psycopg2\n",
    "from sagas.profile.connections import config\n",
    "\n",
    "def write_blob(part_id, path_to_file, file_extension):\n",
    "    \"\"\" insert a BLOB into a table \"\"\"\n",
    "    conn = None\n",
    "    try:\n",
    "        # read data from a picture\n",
    "        drawing = open(path_to_file, 'rb').read()\n",
    "        # read database configuration\n",
    "        params = config()\n",
    "        # connect to the PostgresQL database\n",
    "        conn = psycopg2.connect(**params)\n",
    "        # create a new cursor object\n",
    "        cur = conn.cursor()\n",
    "        # execute the INSERT statement\n",
    "        cur.execute(\"INSERT INTO part_drawings(part_id,file_extension,drawing_data) \" +\n",
    "                    \"VALUES(%s,%s,%s)\",\n",
    "                    (part_id, file_extension, psycopg2.Binary(drawing)))\n",
    "        # commit the changes to the database\n",
    "        conn.commit()\n",
    "        # close the communication with the PostgresQL database\n",
    "        cur.close()\n",
    "    except (Exception, psycopg2.DatabaseError) as error:\n",
    "        print(error)\n",
    "    finally:\n",
    "        if conn is not None:\n",
    "            conn.close()\n",
    "\n",
    "def read_blob(part_id, path_to_dir):\n",
    "    \"\"\" read BLOB data from a table \"\"\"\n",
    "    conn = None\n",
    "    try:\n",
    "        # read database configuration\n",
    "        params = config()\n",
    "        # connect to the PostgresQL database\n",
    "        conn = psycopg2.connect(**params)\n",
    "        # create a new cursor object\n",
    "        cur = conn.cursor()\n",
    "        # execute the SELECT statement\n",
    "        cur.execute(\"\"\" SELECT part_name, file_extension, drawing_data\n",
    "                        FROM part_drawings\n",
    "                        INNER JOIN parts on parts.part_id = part_drawings.part_id\n",
    "                        WHERE parts.part_id = %s \"\"\",\n",
    "                    (part_id,))\n",
    "\n",
    "        blob = cur.fetchone()\n",
    "        open(path_to_dir + blob[0] + '.' + blob[1], 'wb').write(blob[2])\n",
    "        # close the communication with the PostgresQL database\n",
    "        cur.close()\n",
    "    except (Exception, psycopg2.DatabaseError) as error:\n",
    "        print(error)\n",
    "    finally:\n",
    "        if conn is not None:\n",
    "            conn.close()"
   ]
  },
  {
   "cell_type": "code",
   "execution_count": 2,
   "metadata": {
    "ExecuteTime": {
     "end_time": "2020-07-15T08:28:41.727494Z",
     "start_time": "2020-07-15T08:28:41.656735Z"
    }
   },
   "outputs": [],
   "source": [
    "write_blob(1, 'images/simtray.jpg', 'jpg')\n",
    "write_blob(2, 'images/speaker.jpg', 'jpg')"
   ]
  },
  {
   "cell_type": "code",
   "execution_count": 3,
   "metadata": {
    "ExecuteTime": {
     "end_time": "2020-07-15T08:30:35.650302Z",
     "start_time": "2020-07-15T08:30:35.632132Z"
    }
   },
   "outputs": [],
   "source": [
    "read_blob(1, 'blob/')"
   ]
  }
 ],
 "metadata": {
  "kernelspec": {
   "display_name": "Python 3",
   "language": "python",
   "name": "python3"
  },
  "language_info": {
   "codemirror_mode": {
    "name": "ipython",
    "version": 3
   },
   "file_extension": ".py",
   "mimetype": "text/x-python",
   "name": "python",
   "nbconvert_exporter": "python",
   "pygments_lexer": "ipython3",
   "version": "3.7.7"
  },
  "varInspector": {
   "cols": {
    "lenName": 16,
    "lenType": 16,
    "lenVar": 40
   },
   "kernels_config": {
    "python": {
     "delete_cmd_postfix": "",
     "delete_cmd_prefix": "del ",
     "library": "var_list.py",
     "varRefreshCmd": "print(var_dic_list())"
    },
    "r": {
     "delete_cmd_postfix": ") ",
     "delete_cmd_prefix": "rm(",
     "library": "var_list.r",
     "varRefreshCmd": "cat(var_dic_list()) "
    }
   },
   "types_to_exclude": [
    "module",
    "function",
    "builtin_function_or_method",
    "instance",
    "_Feature"
   ],
   "window_display": false
  }
 },
 "nbformat": 4,
 "nbformat_minor": 4
}
