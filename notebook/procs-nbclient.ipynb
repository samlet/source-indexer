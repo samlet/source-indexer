{
 "cells": [
  {
   "cell_type": "code",
   "execution_count": 1,
   "metadata": {
    "ExecuteTime": {
     "end_time": "2020-07-15T07:31:39.242625Z",
     "start_time": "2020-07-15T07:31:39.163085Z"
    }
   },
   "outputs": [],
   "source": [
    "import nbformat\n",
    "from nbclient import NotebookClient"
   ]
  },
  {
   "cell_type": "code",
   "execution_count": 6,
   "metadata": {
    "ExecuteTime": {
     "end_time": "2020-07-15T08:42:15.309039Z",
     "start_time": "2020-07-15T08:42:15.302576Z"
    }
   },
   "outputs": [],
   "source": [
    "# notebook_filename='./procs-postgres.ipynb'\n",
    "notebook_filename='./procs-postgres-query.ipynb'\n",
    "with open(notebook_filename) as f:\n",
    "    nb = nbformat.read(f, as_version=4)"
   ]
  },
  {
   "cell_type": "code",
   "execution_count": 7,
   "metadata": {
    "ExecuteTime": {
     "end_time": "2020-07-15T08:42:17.364103Z",
     "start_time": "2020-07-15T08:42:17.357844Z"
    }
   },
   "outputs": [],
   "source": [
    "# path specifies in which folder to execute the notebook.\n",
    "path='./' # 'notebooks/'\n",
    "client = NotebookClient(nb, timeout=600, kernel_name='python3', resources={'metadata': {'path': path}})"
   ]
  },
  {
   "cell_type": "code",
   "execution_count": 8,
   "metadata": {
    "ExecuteTime": {
     "end_time": "2020-07-15T08:42:22.247044Z",
     "start_time": "2020-07-15T08:42:20.231619Z"
    }
   },
   "outputs": [
    {
     "data": {
      "text/plain": [
       "{'cells': [{'cell_type': 'code',\n",
       "   'execution_count': 1,\n",
       "   'metadata': {'ExecuteTime': {'end_time': '2020-07-15T08:34:42.165844Z',\n",
       "     'start_time': '2020-07-15T08:34:41.546961Z'},\n",
       "    'execution': {'iopub.status.busy': '2020-07-15T08:42:21.364605Z',\n",
       "     'iopub.execute_input': '2020-07-15T08:42:21.365463Z',\n",
       "     'iopub.status.idle': '2020-07-15T08:42:21.920120Z',\n",
       "     'shell.execute_reply': '2020-07-15T08:42:21.921019Z'}},\n",
       "   'outputs': [{'output_type': 'stream',\n",
       "     'name': 'stdout',\n",
       "     'text': 'The number of parts: '},\n",
       "    {'output_type': 'stream', 'name': 'stdout', 'text': ' '},\n",
       "    {'output_type': 'stream', 'name': 'stdout', 'text': '14'},\n",
       "    {'output_type': 'stream', 'name': 'stdout', 'text': '\\n'},\n",
       "    {'output_type': 'stream', 'name': 'stdout', 'text': \"(1, '3M Co.')\"},\n",
       "    {'output_type': 'stream', 'name': 'stdout', 'text': '\\n'},\n",
       "    {'output_type': 'stream', 'name': 'stdout', 'text': \"(8, '3M Co.')\"},\n",
       "    {'output_type': 'stream', 'name': 'stdout', 'text': '\\n'},\n",
       "    {'output_type': 'stream',\n",
       "     'name': 'stdout',\n",
       "     'text': \"(2, 'AKM Semiconductor Inc.')\"},\n",
       "    {'output_type': 'stream', 'name': 'stdout', 'text': '\\n'},\n",
       "    {'output_type': 'stream',\n",
       "     'name': 'stdout',\n",
       "     'text': \"(9, 'AKM Semiconductor Inc.')\"},\n",
       "    {'output_type': 'stream', 'name': 'stdout', 'text': '\\n'},\n",
       "    {'output_type': 'stream',\n",
       "     'name': 'stdout',\n",
       "     'text': \"(3, 'Asahi Glass Co Ltd.')\"},\n",
       "    {'output_type': 'stream', 'name': 'stdout', 'text': '\\n'},\n",
       "    {'output_type': 'stream',\n",
       "     'name': 'stdout',\n",
       "     'text': \"(10, 'Asahi Glass Co Ltd.')\"},\n",
       "    {'output_type': 'stream', 'name': 'stdout', 'text': '\\n'},\n",
       "    {'output_type': 'stream',\n",
       "     'name': 'stdout',\n",
       "     'text': \"(4, 'Daikin Industries Ltd.')\"},\n",
       "    {'output_type': 'stream', 'name': 'stdout', 'text': '\\n'},\n",
       "    {'output_type': 'stream',\n",
       "     'name': 'stdout',\n",
       "     'text': \"(11, 'Daikin Industries Ltd.')\"},\n",
       "    {'output_type': 'stream', 'name': 'stdout', 'text': '\\n'},\n",
       "    {'output_type': 'stream',\n",
       "     'name': 'stdout',\n",
       "     'text': \"(5, 'Dynacast International Inc.')\"},\n",
       "    {'output_type': 'stream', 'name': 'stdout', 'text': '\\n'},\n",
       "    {'output_type': 'stream',\n",
       "     'name': 'stdout',\n",
       "     'text': \"(12, 'Dynacast International Inc.')\"},\n",
       "    {'output_type': 'stream', 'name': 'stdout', 'text': '\\n'},\n",
       "    {'output_type': 'stream',\n",
       "     'name': 'stdout',\n",
       "     'text': \"(6, 'Foster Electric Co. Ltd.')\"},\n",
       "    {'output_type': 'stream', 'name': 'stdout', 'text': '\\n'},\n",
       "    {'output_type': 'stream',\n",
       "     'name': 'stdout',\n",
       "     'text': \"(13, 'Foster Electric Co. Ltd.')\"},\n",
       "    {'output_type': 'stream', 'name': 'stdout', 'text': '\\n'},\n",
       "    {'output_type': 'stream',\n",
       "     'name': 'stdout',\n",
       "     'text': \"(7, 'Murata Manufacturing Co. Ltd.')\"},\n",
       "    {'output_type': 'stream', 'name': 'stdout', 'text': '\\n'},\n",
       "    {'output_type': 'stream',\n",
       "     'name': 'stdout',\n",
       "     'text': \"(14, 'Murata Manufacturing Co. Ltd.')\"},\n",
       "    {'output_type': 'stream', 'name': 'stdout', 'text': '\\n'}],\n",
       "   'source': 'import psycopg2\\nfrom sagas.profile.connections import config\\n\\ndef get_vendors():\\n    \"\"\" query data from the vendors table \"\"\"\\n    conn = None\\n    try:\\n        params = config()\\n        conn = psycopg2.connect(**params)\\n        cur = conn.cursor()\\n        cur.execute(\"SELECT vendor_id, vendor_name FROM vendors ORDER BY vendor_name\")\\n        print(\"The number of parts: \", cur.rowcount)\\n        row = cur.fetchone()\\n\\n        while row is not None:\\n            print(row)\\n            row = cur.fetchone()\\n\\n        cur.close()\\n    except (Exception, psycopg2.DatabaseError) as error:\\n        print(error)\\n    finally:\\n        if conn is not None:\\n            conn.close()\\n\\nget_vendors()'}],\n",
       " 'metadata': {'kernelspec': {'display_name': 'Python 3',\n",
       "   'language': 'python',\n",
       "   'name': 'python3'},\n",
       "  'language_info': {'name': 'python',\n",
       "   'version': '3.7.7',\n",
       "   'mimetype': 'text/x-python',\n",
       "   'codemirror_mode': {'name': 'ipython', 'version': 3},\n",
       "   'pygments_lexer': 'ipython3',\n",
       "   'nbconvert_exporter': 'python',\n",
       "   'file_extension': '.py'},\n",
       "  'varInspector': {'cols': {'lenName': 16, 'lenType': 16, 'lenVar': 40},\n",
       "   'kernels_config': {'python': {'delete_cmd_postfix': '',\n",
       "     'delete_cmd_prefix': 'del ',\n",
       "     'library': 'var_list.py',\n",
       "     'varRefreshCmd': 'print(var_dic_list())'},\n",
       "    'r': {'delete_cmd_postfix': ') ',\n",
       "     'delete_cmd_prefix': 'rm(',\n",
       "     'library': 'var_list.r',\n",
       "     'varRefreshCmd': 'cat(var_dic_list()) '}},\n",
       "   'types_to_exclude': ['module',\n",
       "    'function',\n",
       "    'builtin_function_or_method',\n",
       "    'instance',\n",
       "    '_Feature'],\n",
       "   'window_display': False}},\n",
       " 'nbformat': 4,\n",
       " 'nbformat_minor': 4}"
      ]
     },
     "execution_count": 8,
     "metadata": {},
     "output_type": "execute_result"
    }
   ],
   "source": [
    "client.execute()"
   ]
  },
  {
   "cell_type": "code",
   "execution_count": 9,
   "metadata": {
    "ExecuteTime": {
     "end_time": "2020-07-15T08:42:41.469810Z",
     "start_time": "2020-07-15T08:42:41.451004Z"
    }
   },
   "outputs": [],
   "source": [
    "nbformat.write(nb, 'results/executed_notebook.ipynb')"
   ]
  }
 ],
 "metadata": {
  "kernelspec": {
   "display_name": "Python 3",
   "language": "python",
   "name": "python3"
  },
  "language_info": {
   "codemirror_mode": {
    "name": "ipython",
    "version": 3
   },
   "file_extension": ".py",
   "mimetype": "text/x-python",
   "name": "python",
   "nbconvert_exporter": "python",
   "pygments_lexer": "ipython3",
   "version": "3.7.7"
  },
  "varInspector": {
   "cols": {
    "lenName": 16,
    "lenType": 16,
    "lenVar": 40
   },
   "kernels_config": {
    "python": {
     "delete_cmd_postfix": "",
     "delete_cmd_prefix": "del ",
     "library": "var_list.py",
     "varRefreshCmd": "print(var_dic_list())"
    },
    "r": {
     "delete_cmd_postfix": ") ",
     "delete_cmd_prefix": "rm(",
     "library": "var_list.r",
     "varRefreshCmd": "cat(var_dic_list()) "
    }
   },
   "types_to_exclude": [
    "module",
    "function",
    "builtin_function_or_method",
    "instance",
    "_Feature"
   ],
   "window_display": false
  }
 },
 "nbformat": 4,
 "nbformat_minor": 4
}
