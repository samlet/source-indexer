{
 "cells": [
  {
   "cell_type": "code",
   "execution_count": 1,
   "metadata": {
    "ExecuteTime": {
     "end_time": "2020-07-15T09:02:24.071054Z",
     "start_time": "2020-07-15T09:02:23.974212Z"
    }
   },
   "outputs": [],
   "source": [
    "import nbformat\n",
    "notebook_filename='./procs-postgres-query.ipynb'\n",
    "nb = nbformat.read(notebook_filename, as_version=4)"
   ]
  },
  {
   "cell_type": "code",
   "execution_count": 2,
   "metadata": {
    "ExecuteTime": {
     "end_time": "2020-07-15T09:02:24.095943Z",
     "start_time": "2020-07-15T09:02:24.075490Z"
    }
   },
   "outputs": [
    {
     "data": {
      "text/plain": [
       "'python3'"
      ]
     },
     "execution_count": 2,
     "metadata": {},
     "output_type": "execute_result"
    }
   ],
   "source": [
    "nb.metadata.kernelspec.name"
   ]
  },
  {
   "cell_type": "code",
   "execution_count": 3,
   "metadata": {
    "ExecuteTime": {
     "end_time": "2020-07-15T09:02:24.127659Z",
     "start_time": "2020-07-15T09:02:24.110033Z"
    }
   },
   "outputs": [],
   "source": [
    "tag='parameters'\n",
    "for idx, cell in enumerate(nb.cells):\n",
    "    if 'tags' in cell.metadata and tag in cell.metadata.tags:\n",
    "        print(tag)"
   ]
  },
  {
   "cell_type": "code",
   "execution_count": 8,
   "metadata": {
    "ExecuteTime": {
     "end_time": "2020-07-15T09:04:22.431313Z",
     "start_time": "2020-07-15T09:04:22.424253Z"
    }
   },
   "outputs": [
    {
     "name": "stdout",
     "output_type": "stream",
     "text": [
      "0 -------------------------\n",
      "code {'ExecuteTime': {'end_time': '2020-07-15T08:34:42.165844Z', 'start_time': '2020-07-15T08:34:41.546961Z'}}\n",
      "import psycopg2\n",
      "from sagas.profile.connections import config\n",
      "\n",
      "def get_vendors():\n",
      "    \"\"\" query data from the vendors table \"\"\"\n",
      "    conn = None\n",
      "    try:\n",
      "        params = config()\n",
      "        conn = psycopg2.connect(**params)\n",
      "        cur = conn.cursor()\n",
      "        cur.execute(\"SELECT vendor_id, vendor_name FROM vendors ORDER BY vendor_name\")\n",
      "        print(\"The number of parts: \", cur.rowcount)\n",
      "        row = cur.fetchone()\n",
      "\n",
      "        while row is not None:\n",
      "            print(row)\n",
      "            row = cur.fetchone()\n",
      "\n",
      "        cur.close()\n",
      "    except (Exception, psycopg2.DatabaseError) as error:\n",
      "        print(error)\n",
      "    finally:\n",
      "        if conn is not None:\n",
      "            conn.close()\n",
      "\n",
      "get_vendors()\n",
      "1 -------------------------\n",
      "code {'ExecuteTime': {'end_time': '2020-07-15T09:02:09.250496Z', 'start_time': '2020-07-15T09:02:09.035904Z'}}\n",
      "get_vendors()\n"
     ]
    }
   ],
   "source": [
    "for idx, cell in enumerate(nb.cells):\n",
    "    print(idx, '-'*25)\n",
    "    print(cell.cell_type, cell.metadata)\n",
    "    print(cell.source)"
   ]
  }
 ],
 "metadata": {
  "kernelspec": {
   "display_name": "Python 3",
   "language": "python",
   "name": "python3"
  },
  "language_info": {
   "codemirror_mode": {
    "name": "ipython",
    "version": 3
   },
   "file_extension": ".py",
   "mimetype": "text/x-python",
   "name": "python",
   "nbconvert_exporter": "python",
   "pygments_lexer": "ipython3",
   "version": "3.7.7"
  },
  "varInspector": {
   "cols": {
    "lenName": 16,
    "lenType": 16,
    "lenVar": 40
   },
   "kernels_config": {
    "python": {
     "delete_cmd_postfix": "",
     "delete_cmd_prefix": "del ",
     "library": "var_list.py",
     "varRefreshCmd": "print(var_dic_list())"
    },
    "r": {
     "delete_cmd_postfix": ") ",
     "delete_cmd_prefix": "rm(",
     "library": "var_list.r",
     "varRefreshCmd": "cat(var_dic_list()) "
    }
   },
   "types_to_exclude": [
    "module",
    "function",
    "builtin_function_or_method",
    "instance",
    "_Feature"
   ],
   "window_display": false
  }
 },
 "nbformat": 4,
 "nbformat_minor": 4
}
