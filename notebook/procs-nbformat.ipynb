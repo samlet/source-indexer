{
 "cells": [
  {
   "cell_type": "code",
   "execution_count": 1,
   "metadata": {
    "ExecuteTime": {
     "end_time": "2020-07-15T20:28:53.911490Z",
     "start_time": "2020-07-15T20:28:53.749361Z"
    }
   },
   "outputs": [],
   "source": [
    "import nbformat\n",
    "# notebook_filename='./procs-postgres-query.ipynb'\n",
    "notebook_filename='./procs-postgres-blob.ipynb'\n",
    "nb = nbformat.read(notebook_filename, as_version=4)"
   ]
  },
  {
   "cell_type": "code",
   "execution_count": 2,
   "metadata": {
    "ExecuteTime": {
     "end_time": "2020-07-15T20:28:53.942335Z",
     "start_time": "2020-07-15T20:28:53.919832Z"
    }
   },
   "outputs": [
    {
     "data": {
      "text/plain": [
       "'python3'"
      ]
     },
     "execution_count": 2,
     "metadata": {},
     "output_type": "execute_result"
    }
   ],
   "source": [
    "nb.metadata.kernelspec.name"
   ]
  },
  {
   "cell_type": "code",
   "execution_count": 3,
   "metadata": {
    "ExecuteTime": {
     "end_time": "2020-07-15T20:28:53.967408Z",
     "start_time": "2020-07-15T20:28:53.957865Z"
    }
   },
   "outputs": [],
   "source": [
    "tag='parameters'\n",
    "for idx, cell in enumerate(nb.cells):\n",
    "    if 'tags' in cell.metadata and tag in cell.metadata.tags:\n",
    "        print(tag)"
   ]
  },
  {
   "cell_type": "code",
   "execution_count": 4,
   "metadata": {
    "ExecuteTime": {
     "end_time": "2020-07-15T20:28:53.997788Z",
     "start_time": "2020-07-15T20:28:53.986519Z"
    }
   },
   "outputs": [
    {
     "name": "stdout",
     "output_type": "stream",
     "text": [
      "0 -------------------------\n",
      "code {'ExecuteTime': {'end_time': '2020-07-15T08:28:19.578365Z', 'start_time': '2020-07-15T08:28:19.184031Z'}}\n",
      "import psycopg2\n",
      "from sagas.profile.connections import config\n",
      "\n",
      "def write_blob(part_id, path_to_file:str, file_extension):\n",
      "    \"\"\" insert a BLOB into a table \"\"\"\n",
      "    conn = None\n",
      "    try:\n",
      "        # read data from a picture\n",
      "        drawing = open(path_to_file, 'rb').read()\n",
      "        # read database configuration\n",
      "        params = config()\n",
      "        # connect to the PostgresQL database\n",
      "        conn = psycopg2.connect(**params)\n",
      "        # create a new cursor object\n",
      "        cur = conn.cursor()\n",
      "        # execute the INSERT statement\n",
      "        cur.execute(\"INSERT INTO part_drawings(part_id,file_extension,drawing_data) \" +\n",
      "                    \"VALUES(%s,%s,%s)\",\n",
      "                    (part_id, file_extension, psycopg2.Binary(drawing)))\n",
      "        # commit the changes to the database\n",
      "        conn.commit()\n",
      "        # close the communication with the PostgresQL database\n",
      "        cur.close()\n",
      "    except (Exception, psycopg2.DatabaseError) as error:\n",
      "        print(error)\n",
      "    finally:\n",
      "        if conn is not None:\n",
      "            conn.close()\n",
      "\n",
      "def read_blob(part_id, path_to_dir):\n",
      "    \"\"\" read BLOB data from a table \"\"\"\n",
      "    conn = None\n",
      "    try:\n",
      "        # read database configuration\n",
      "        params = config()\n",
      "        # connect to the PostgresQL database\n",
      "        conn = psycopg2.connect(**params)\n",
      "        # create a new cursor object\n",
      "        cur = conn.cursor()\n",
      "        # execute the SELECT statement\n",
      "        cur.execute(\"\"\" SELECT part_name, file_extension, drawing_data\n",
      "                        FROM part_drawings\n",
      "                        INNER JOIN parts on parts.part_id = part_drawings.part_id\n",
      "                        WHERE parts.part_id = %s \"\"\",\n",
      "                    (part_id,))\n",
      "\n",
      "        blob = cur.fetchone()\n",
      "        open(path_to_dir + blob[0] + '.' + blob[1], 'wb').write(blob[2])\n",
      "        # close the communication with the PostgresQL database\n",
      "        cur.close()\n",
      "    except (Exception, psycopg2.DatabaseError) as error:\n",
      "        print(error)\n",
      "    finally:\n",
      "        if conn is not None:\n",
      "            conn.close()\n",
      "1 -------------------------\n",
      "code {'ExecuteTime': {'end_time': '2020-07-15T08:28:41.727494Z', 'start_time': '2020-07-15T08:28:41.656735Z'}}\n",
      "write_blob(1, 'images/simtray.jpg', 'jpg')\n",
      "write_blob(2, 'images/speaker.jpg', 'jpg')\n",
      "2 -------------------------\n",
      "code {'ExecuteTime': {'end_time': '2020-07-15T08:30:35.650302Z', 'start_time': '2020-07-15T08:30:35.632132Z'}}\n",
      "read_blob(1, 'blob/')\n"
     ]
    }
   ],
   "source": [
    "for idx, cell in enumerate(nb.cells):\n",
    "    print(idx, '-'*25)\n",
    "    print(cell.cell_type, cell.metadata)\n",
    "    print(cell.source)"
   ]
  },
  {
   "cell_type": "code",
   "execution_count": 5,
   "metadata": {
    "ExecuteTime": {
     "end_time": "2020-07-15T20:28:54.014958Z",
     "start_time": "2020-07-15T20:28:54.005738Z"
    }
   },
   "outputs": [
    {
     "name": "stdout",
     "output_type": "stream",
     "text": [
      "import psycopg2\n",
      "from sagas.profile.connections import config\n",
      "\n",
      "def write_blob(part_id, path_to_file:str, file_extension):\n",
      "    \"\"\" insert a BLOB into a table \"\"\"\n",
      "    conn = None\n",
      "    try:\n",
      "        # read data from a picture\n",
      "        drawing = open(path_to_file, 'rb').read()\n",
      "        # read database configuration\n",
      "        params = config()\n",
      "        # connect to the PostgresQL database\n",
      "        conn = psycopg2.connect(**params)\n",
      "        # create a new cursor object\n",
      "        cur = conn.cursor()\n",
      "        # execute the INSERT statement\n",
      "        cur.execute(\"INSERT INTO part_drawings(part_id,file_extension,drawing_data) \" +\n",
      "                    \"VALUES(%s,%s,%s)\",\n",
      "                    (part_id, file_extension, psycopg2.Binary(drawing)))\n",
      "        # commit the changes to the database\n",
      "        conn.commit()\n",
      "        # close the communication with the PostgresQL database\n",
      "        cur.close()\n",
      "    except (Exception, psycopg2.DatabaseError) as error:\n",
      "        print(error)\n",
      "    finally:\n",
      "        if conn is not None:\n",
      "            conn.close()\n",
      "\n",
      "def read_blob(part_id, path_to_dir):\n",
      "    \"\"\" read BLOB data from a table \"\"\"\n",
      "    conn = None\n",
      "    try:\n",
      "        # read database configuration\n",
      "        params = config()\n",
      "        # connect to the PostgresQL database\n",
      "        conn = psycopg2.connect(**params)\n",
      "        # create a new cursor object\n",
      "        cur = conn.cursor()\n",
      "        # execute the SELECT statement\n",
      "        cur.execute(\"\"\" SELECT part_name, file_extension, drawing_data\n",
      "                        FROM part_drawings\n",
      "                        INNER JOIN parts on parts.part_id = part_drawings.part_id\n",
      "                        WHERE parts.part_id = %s \"\"\",\n",
      "                    (part_id,))\n",
      "\n",
      "        blob = cur.fetchone()\n",
      "        open(path_to_dir + blob[0] + '.' + blob[1], 'wb').write(blob[2])\n",
      "        # close the communication with the PostgresQL database\n",
      "        cur.close()\n",
      "    except (Exception, psycopg2.DatabaseError) as error:\n",
      "        print(error)\n",
      "    finally:\n",
      "        if conn is not None:\n",
      "            conn.close()\n",
      "write_blob(1, 'images/simtray.jpg', 'jpg')\n",
      "write_blob(2, 'images/speaker.jpg', 'jpg')\n",
      "read_blob(1, 'blob/')\n"
     ]
    }
   ],
   "source": [
    "code=''\n",
    "snips=[]\n",
    "for idx, cell in enumerate(nb.cells):\n",
    "    if cell.cell_type=='code':\n",
    "        snips.append(cell.source)\n",
    "\n",
    "code='\\n'.join(snips)\n",
    "print(code)"
   ]
  },
  {
   "cell_type": "code",
   "execution_count": 6,
   "metadata": {
    "ExecuteTime": {
     "end_time": "2020-07-15T20:28:54.062289Z",
     "start_time": "2020-07-15T20:28:54.025674Z"
    }
   },
   "outputs": [],
   "source": [
    "from source_indexer.anal_sources import tree_vis, AstNode\n",
    "import ast, gast\n",
    "# code = open(file).read()\n",
    "tree = ast.parse(code)\n",
    "gtree = gast.ast_to_gast(tree)"
   ]
  },
  {
   "cell_type": "code",
   "execution_count": 7,
   "metadata": {
    "ExecuteTime": {
     "end_time": "2020-07-15T20:28:54.076068Z",
     "start_time": "2020-07-15T20:28:54.069731Z"
    }
   },
   "outputs": [
    {
     "name": "stdout",
     "output_type": "stream",
     "text": [
      "Module: _\n",
      "├── Import: _\n",
      "├── ImportFrom: _\n",
      "├── FunctionDef: write_blob\n",
      "│   ├── Expr: _\n",
      "│   ├── Assign: _\n",
      "│   └── Try: _\n",
      "│       ├── Assign: _\n",
      "│       ├── Assign: _\n",
      "│       ├── Assign: _\n",
      "│       ├── Assign: _\n",
      "│       ├── Expr: _\n",
      "│       ├── Expr: _\n",
      "│       └── Expr: _\n",
      "├── FunctionDef: read_blob\n",
      "│   ├── Expr: _\n",
      "│   ├── Assign: _\n",
      "│   └── Try: _\n",
      "│       ├── Assign: _\n",
      "│       ├── Assign: _\n",
      "│       ├── Assign: _\n",
      "│       ├── Expr: _\n",
      "│       ├── Assign: _\n",
      "│       ├── Expr: _\n",
      "│       └── Expr: _\n",
      "├── Expr: _\n",
      "├── Expr: _\n",
      "└── Expr: _\n"
     ]
    }
   ],
   "source": [
    "tree_vis(gtree)"
   ]
  },
  {
   "cell_type": "code",
   "execution_count": 8,
   "metadata": {
    "ExecuteTime": {
     "end_time": "2020-07-15T20:28:54.085910Z",
     "start_time": "2020-07-15T20:28:54.080352Z"
    }
   },
   "outputs": [
    {
     "data": {
      "text/plain": [
       "(write_blob, read_blob)"
      ]
     },
     "execution_count": 8,
     "metadata": {},
     "output_type": "execute_result"
    }
   ],
   "source": [
    "root=AstNode(ast_node=gtree)\n",
    "root.functions"
   ]
  },
  {
   "cell_type": "code",
   "execution_count": 9,
   "metadata": {
    "ExecuteTime": {
     "end_time": "2020-07-15T20:28:54.093552Z",
     "start_time": "2020-07-15T20:28:54.088990Z"
    }
   },
   "outputs": [
    {
     "data": {
      "text/plain": [
       "('args', 'vararg', 'kwonlyargs', 'kw_defaults', 'kwarg', 'defaults')"
      ]
     },
     "execution_count": 9,
     "metadata": {},
     "output_type": "execute_result"
    }
   ],
   "source": [
    "root.functions[0].ast_node.args._fields"
   ]
  },
  {
   "cell_type": "code",
   "execution_count": 10,
   "metadata": {
    "ExecuteTime": {
     "end_time": "2020-07-15T20:28:54.100778Z",
     "start_time": "2020-07-15T20:28:54.095870Z"
    }
   },
   "outputs": [
    {
     "data": {
      "text/plain": [
       "['def write_blob(part_id, path_to_file:str, file_extension):',\n",
       " '    \"\"\" insert a BLOB into a table \"\"\"']"
      ]
     },
     "execution_count": 10,
     "metadata": {},
     "output_type": "execute_result"
    }
   ],
   "source": [
    "f=root.functions[0].ast_node\n",
    "code.split('\\n')[f.lineno-1:f.lineno+1]"
   ]
  },
  {
   "cell_type": "code",
   "execution_count": 11,
   "metadata": {
    "ExecuteTime": {
     "end_time": "2020-07-15T20:28:54.109568Z",
     "start_time": "2020-07-15T20:28:54.102931Z"
    }
   },
   "outputs": [
    {
     "data": {
      "text/plain": [
       "[('write_blob',\n",
       "  4,\n",
       "  'insert a BLOB into a table ',\n",
       "  ['part_id _', 'path_to_file str', 'file_extension _']),\n",
       " ('read_blob',\n",
       "  30,\n",
       "  'read BLOB data from a table ',\n",
       "  ['part_id _', 'path_to_dir _'])]"
      ]
     },
     "execution_count": 11,
     "metadata": {},
     "output_type": "execute_result"
    }
   ],
   "source": [
    "def get_args(args):\n",
    "    return [f\"{a.id} {a.annotation.id if a.annotation else '_'}\" for a in args]\n",
    "fns=[(f.ast_node.name, f.ast_node.lineno, f.doc_str, get_args(f.ast_node.args.args)) \n",
    "     for f in root.functions]\n",
    "fns"
   ]
  },
  {
   "cell_type": "code",
   "execution_count": 12,
   "metadata": {
    "ExecuteTime": {
     "end_time": "2020-07-15T20:28:54.124310Z",
     "start_time": "2020-07-15T20:28:54.111668Z"
    }
   },
   "outputs": [
    {
     "data": {
      "text/plain": [
       "(True, ['write_blob'])"
      ]
     },
     "execution_count": 12,
     "metadata": {},
     "output_type": "execute_result"
    }
   ],
   "source": [
    "import marisa_trie\n",
    "import msgpack\n",
    "keys=[r[0] for r in fns]\n",
    "values=[msgpack.packb(r, use_bin_type=True) for r in fns]\n",
    "trie = marisa_trie.BytesTrie(zip(keys, values))\n",
    "'write_blob' in trie, trie.keys('write')"
   ]
  },
  {
   "cell_type": "code",
   "execution_count": 13,
   "metadata": {
    "ExecuteTime": {
     "end_time": "2020-07-15T20:28:54.131298Z",
     "start_time": "2020-07-15T20:28:54.126579Z"
    }
   },
   "outputs": [
    {
     "data": {
      "text/plain": [
       "['write_blob',\n",
       " 4,\n",
       " 'insert a BLOB into a table ',\n",
       " ['part_id _', 'path_to_file str', 'file_extension _']]"
      ]
     },
     "execution_count": 13,
     "metadata": {},
     "output_type": "execute_result"
    }
   ],
   "source": [
    "val=trie['write_blob'][0]\n",
    "msgpack.unpackb(val, raw=False)"
   ]
  },
  {
   "cell_type": "code",
   "execution_count": 14,
   "metadata": {
    "ExecuteTime": {
     "end_time": "2020-07-15T20:28:54.142383Z",
     "start_time": "2020-07-15T20:28:54.134280Z"
    }
   },
   "outputs": [
    {
     "data": {
      "text/plain": [
       "['read_blob']"
      ]
     },
     "execution_count": 14,
     "metadata": {},
     "output_type": "execute_result"
    }
   ],
   "source": [
    "trie.prefixes('read_blobx')"
   ]
  },
  {
   "cell_type": "code",
   "execution_count": 15,
   "metadata": {
    "ExecuteTime": {
     "end_time": "2020-07-15T20:28:54.148163Z",
     "start_time": "2020-07-15T20:28:54.144512Z"
    }
   },
   "outputs": [],
   "source": [
    "trie.save('blob/functions.marisa')"
   ]
  },
  {
   "cell_type": "code",
   "execution_count": 16,
   "metadata": {
    "ExecuteTime": {
     "end_time": "2020-07-15T20:28:54.159454Z",
     "start_time": "2020-07-15T20:28:54.152617Z"
    }
   },
   "outputs": [
    {
     "data": {
      "text/plain": [
       "['write_blob',\n",
       " 4,\n",
       " 'insert a BLOB into a table ',\n",
       " ['part_id _', 'path_to_file str', 'file_extension _']]"
      ]
     },
     "execution_count": 16,
     "metadata": {},
     "output_type": "execute_result"
    }
   ],
   "source": [
    "trie2 = marisa_trie.BytesTrie()\n",
    "trie2.load('blob/functions.marisa')\n",
    "val=trie2['write_blob'][0]\n",
    "msgpack.unpackb(val, raw=False)"
   ]
  },
  {
   "cell_type": "code",
   "execution_count": 17,
   "metadata": {
    "ExecuteTime": {
     "end_time": "2020-07-15T20:28:55.869679Z",
     "start_time": "2020-07-15T20:28:54.161568Z"
    }
   },
   "outputs": [],
   "source": [
    "from whoosh.index import create_in,open_dir\n",
    "from whoosh.fields import *\n",
    "from whoosh.qparser import QueryParser\n",
    "\n",
    "from jieba.analyse.analyzer import ChineseAnalyzer\n",
    "\n",
    "analyzer = ChineseAnalyzer()\n",
    "\n",
    "# fns=[(f.ast_node.name, f.ast_node.lineno, f.doc_str, get_args(f.ast_node.args.args)) \n",
    "#      for f in root.functions]\n",
    "# notebook_filename\n",
    "schema = Schema(name=TEXT(stored=True), \n",
    "                path=ID(stored=True), \n",
    "                comment=TEXT(stored=True, analyzer=analyzer))"
   ]
  },
  {
   "cell_type": "code",
   "execution_count": 18,
   "metadata": {
    "ExecuteTime": {
     "end_time": "2020-07-15T20:28:55.893737Z",
     "start_time": "2020-07-15T20:28:55.871993Z"
    }
   },
   "outputs": [],
   "source": [
    "import os\n",
    "if not os.path.exists(\"indexes\"):\n",
    "    os.mkdir(\"indexes\")\n",
    "\n",
    "ix = create_in(\"indexes\", schema) # for create new index\n",
    "#ix = open_dir(\"indexes\") # for read only\n",
    "writer = ix.writer()"
   ]
  },
  {
   "cell_type": "code",
   "execution_count": 19,
   "metadata": {
    "ExecuteTime": {
     "end_time": "2020-07-15T20:28:56.771820Z",
     "start_time": "2020-07-15T20:28:55.896881Z"
    }
   },
   "outputs": [
    {
     "name": "stderr",
     "output_type": "stream",
     "text": [
      "Building prefix dict from the default dictionary ...\n",
      "Loading model from cache /var/folders/fv/7k1qk5v11dn33sdcngv2wbnm0000gn/T/jieba.cache\n",
      "Loading model cost 0.849 seconds.\n",
      "Prefix dict has been built successfully.\n"
     ]
    }
   ],
   "source": [
    "for f in root.functions:\n",
    "    writer.add_document(\n",
    "        name=f.ast_node.name,\n",
    "        path=notebook_filename,\n",
    "        comment=f.doc_str,\n",
    "    )\n",
    "writer.commit()"
   ]
  },
  {
   "cell_type": "code",
   "execution_count": 20,
   "metadata": {
    "ExecuteTime": {
     "end_time": "2020-07-15T20:28:56.826339Z",
     "start_time": "2020-07-15T20:28:56.784055Z"
    }
   },
   "outputs": [],
   "source": [
    "searcher = ix.searcher()\n",
    "parser = QueryParser(\"comment\", schema=ix.schema)"
   ]
  },
  {
   "cell_type": "code",
   "execution_count": 21,
   "metadata": {
    "ExecuteTime": {
     "end_time": "2020-07-15T20:28:56.866904Z",
     "start_time": "2020-07-15T20:28:56.830673Z"
    }
   },
   "outputs": [
    {
     "name": "stdout",
     "output_type": "stream",
     "text": [
      "insert a <b class=\"match term0\">BLOB</b> into a table\n",
      "read <b class=\"match term0\">BLOB</b> data from a table\n"
     ]
    }
   ],
   "source": [
    "keyword='blob'\n",
    "q = parser.parse(keyword)\n",
    "results = searcher.search(q)\n",
    "for hit in results:\n",
    "    print(hit.highlights(\"comment\"))"
   ]
  },
  {
   "cell_type": "code",
   "execution_count": 22,
   "metadata": {
    "ExecuteTime": {
     "end_time": "2020-07-15T20:28:56.896209Z",
     "start_time": "2020-07-15T20:28:56.881667Z"
    }
   },
   "outputs": [
    {
     "data": {
      "text/plain": [
       "['我',\n",
       " '好',\n",
       " '朋友',\n",
       " '是',\n",
       " '李明',\n",
       " '我',\n",
       " '爱',\n",
       " '北京',\n",
       " '天安',\n",
       " '天安门',\n",
       " 'ibm',\n",
       " 'microsoft',\n",
       " 'dream',\n",
       " 'intetest',\n",
       " 'interest',\n",
       " 'me',\n",
       " 'lot']"
      ]
     },
     "execution_count": 22,
     "metadata": {},
     "output_type": "execute_result"
    }
   ],
   "source": [
    "[t.text for t in analyzer(\"我的好朋友是李明;我爱北京天安门;IBM和Microsoft; I have a dream. this is intetesting and interested me a lot\")]"
   ]
  }
 ],
 "metadata": {
  "kernelspec": {
   "display_name": "Python 3",
   "language": "python",
   "name": "python3"
  },
  "language_info": {
   "codemirror_mode": {
    "name": "ipython",
    "version": 3
   },
   "file_extension": ".py",
   "mimetype": "text/x-python",
   "name": "python",
   "nbconvert_exporter": "python",
   "pygments_lexer": "ipython3",
   "version": "3.7.7"
  },
  "varInspector": {
   "cols": {
    "lenName": 16,
    "lenType": 16,
    "lenVar": 40
   },
   "kernels_config": {
    "python": {
     "delete_cmd_postfix": "",
     "delete_cmd_prefix": "del ",
     "library": "var_list.py",
     "varRefreshCmd": "print(var_dic_list())"
    },
    "r": {
     "delete_cmd_postfix": ") ",
     "delete_cmd_prefix": "rm(",
     "library": "var_list.r",
     "varRefreshCmd": "cat(var_dic_list()) "
    }
   },
   "types_to_exclude": [
    "module",
    "function",
    "builtin_function_or_method",
    "instance",
    "_Feature"
   ],
   "window_display": false
  }
 },
 "nbformat": 4,
 "nbformat_minor": 4
}
