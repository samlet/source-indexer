{
 "cells": [
  {
   "cell_type": "code",
   "execution_count": 1,
   "metadata": {
    "ExecuteTime": {
     "end_time": "2020-07-15T08:17:36.766098Z",
     "start_time": "2020-07-15T08:17:36.295414Z"
    }
   },
   "outputs": [],
   "source": [
    "import psycopg2\n",
    "from sagas.profile.connections import config\n",
    "\n",
    "def insert_vendor(vendor_name):\n",
    "    \"\"\" insert a new vendor into the vendors table \"\"\"\n",
    "    sql = \"\"\"INSERT INTO vendors(vendor_name)\n",
    "             VALUES(%s) RETURNING vendor_id;\"\"\"\n",
    "    conn = None\n",
    "    vendor_id = None\n",
    "    try:\n",
    "        # read database configuration\n",
    "        params = config()\n",
    "        # connect to the PostgreSQL database\n",
    "        conn = psycopg2.connect(**params)\n",
    "        # create a new cursor\n",
    "        cur = conn.cursor()\n",
    "        # execute the INSERT statement\n",
    "        cur.execute(sql, (vendor_name,))\n",
    "        # get the generated id back\n",
    "        vendor_id = cur.fetchone()[0]\n",
    "        # commit the changes to the database\n",
    "        conn.commit()\n",
    "        # close communication with the database\n",
    "        cur.close()\n",
    "    except (Exception, psycopg2.DatabaseError) as error:\n",
    "        print(error)\n",
    "    finally:\n",
    "        if conn is not None:\n",
    "            conn.close()\n",
    "\n",
    "    return vendor_id\n",
    "\n",
    "def insert_vendor_list(vendor_list):\n",
    "    \"\"\" insert multiple vendors into the vendors table  \"\"\"\n",
    "    sql = \"INSERT INTO vendors(vendor_name) VALUES(%s)\"\n",
    "    conn = None\n",
    "    try:\n",
    "        # read database configuration\n",
    "        params = config()\n",
    "        # connect to the PostgreSQL database\n",
    "        conn = psycopg2.connect(**params)\n",
    "        # create a new cursor\n",
    "        cur = conn.cursor()\n",
    "        # execute the INSERT statement\n",
    "        cur.executemany(sql,vendor_list)\n",
    "        # commit the changes to the database\n",
    "        conn.commit()\n",
    "        # close communication with the database\n",
    "        cur.close()\n",
    "    except (Exception, psycopg2.DatabaseError) as error:\n",
    "        print(error)\n",
    "    finally:\n",
    "        if conn is not None:\n",
    "            conn.close()"
   ]
  },
  {
   "cell_type": "code",
   "execution_count": 3,
   "metadata": {
    "ExecuteTime": {
     "end_time": "2020-07-15T08:17:52.784726Z",
     "start_time": "2020-07-15T08:17:52.748559Z"
    }
   },
   "outputs": [],
   "source": [
    "# insert one vendor\n",
    "insert_vendor(\"3M Co.\")\n",
    "# insert multiple vendors\n",
    "insert_vendor_list([\n",
    "    ('AKM Semiconductor Inc.',),\n",
    "    ('Asahi Glass Co Ltd.',),\n",
    "    ('Daikin Industries Ltd.',),\n",
    "    ('Dynacast International Inc.',),\n",
    "    ('Foster Electric Co. Ltd.',),\n",
    "    ('Murata Manufacturing Co. Ltd.',)\n",
    "])"
   ]
  },
  {
   "cell_type": "code",
   "execution_count": 4,
   "metadata": {
    "ExecuteTime": {
     "end_time": "2020-07-15T08:21:22.741452Z",
     "start_time": "2020-07-15T08:21:22.734614Z"
    }
   },
   "outputs": [],
   "source": [
    "def add_part(part_name, vendor_list):\n",
    "    # statement for inserting a new row into the parts table\n",
    "    insert_part = \"INSERT INTO parts(part_name) VALUES(%s) RETURNING part_id;\"\n",
    "    # statement for inserting a new row into the vendor_parts table\n",
    "    assign_vendor = \"INSERT INTO vendor_parts(vendor_id,part_id) VALUES(%s,%s)\"\n",
    "\n",
    "    conn = None\n",
    "    try:\n",
    "        params = config()\n",
    "        conn = psycopg2.connect(**params)\n",
    "        cur = conn.cursor()\n",
    "        # insert a new part\n",
    "        cur.execute(insert_part, (part_name,))\n",
    "        # get the part id\n",
    "        part_id = cur.fetchone()[0]\n",
    "        # assign parts provided by vendors\n",
    "        for vendor_id in vendor_list:\n",
    "            cur.execute(assign_vendor, (vendor_id, part_id))\n",
    "\n",
    "        # commit changes\n",
    "        conn.commit()\n",
    "    except (Exception, psycopg2.DatabaseError) as error:\n",
    "        print(error)\n",
    "    finally:\n",
    "        if conn is not None:\n",
    "            conn.close()"
   ]
  },
  {
   "cell_type": "code",
   "execution_count": 5,
   "metadata": {
    "ExecuteTime": {
     "end_time": "2020-07-15T08:21:36.465400Z",
     "start_time": "2020-07-15T08:21:36.366127Z"
    }
   },
   "outputs": [],
   "source": [
    "add_part('SIM Tray', (1, 2))\n",
    "add_part('Speaker', (3, 4))\n",
    "add_part('Vibrator', (5, 6))\n",
    "add_part('Antenna', (6, 7))\n",
    "add_part('Home Button', (1, 5))\n",
    "add_part('LTE Modem', (1, 5))"
   ]
  },
  {
   "cell_type": "code",
   "execution_count": 6,
   "metadata": {
    "ExecuteTime": {
     "end_time": "2020-07-15T08:22:11.292242Z",
     "start_time": "2020-07-15T08:22:11.255098Z"
    }
   },
   "outputs": [
    {
     "name": "stdout",
     "output_type": "stream",
     "text": [
      "insert or update on table \"vendor_parts\" violates foreign key constraint \"vendor_parts_vendor_id_fkey\"\n",
      "DETAIL:  Key (vendor_id)=(99) is not present in table \"vendors\".\n",
      "\n"
     ]
    }
   ],
   "source": [
    "# no rows inserted into the parts and vendor_parts tables\n",
    "add_part('Power Amplifier', (99,))"
   ]
  }
 ],
 "metadata": {
  "kernelspec": {
   "display_name": "Python 3",
   "language": "python",
   "name": "python3"
  },
  "language_info": {
   "codemirror_mode": {
    "name": "ipython",
    "version": 3
   },
   "file_extension": ".py",
   "mimetype": "text/x-python",
   "name": "python",
   "nbconvert_exporter": "python",
   "pygments_lexer": "ipython3",
   "version": "3.7.7"
  },
  "varInspector": {
   "cols": {
    "lenName": 16,
    "lenType": 16,
    "lenVar": 40
   },
   "kernels_config": {
    "python": {
     "delete_cmd_postfix": "",
     "delete_cmd_prefix": "del ",
     "library": "var_list.py",
     "varRefreshCmd": "print(var_dic_list())"
    },
    "r": {
     "delete_cmd_postfix": ") ",
     "delete_cmd_prefix": "rm(",
     "library": "var_list.r",
     "varRefreshCmd": "cat(var_dic_list()) "
    }
   },
   "types_to_exclude": [
    "module",
    "function",
    "builtin_function_or_method",
    "instance",
    "_Feature"
   ],
   "window_display": false
  }
 },
 "nbformat": 4,
 "nbformat_minor": 4
}
