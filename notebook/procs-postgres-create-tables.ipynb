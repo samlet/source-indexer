{
 "cells": [
  {
   "cell_type": "code",
   "execution_count": 4,
   "metadata": {
    "ExecuteTime": {
     "end_time": "2020-07-15T08:16:59.682450Z",
     "start_time": "2020-07-15T08:16:59.252004Z"
    }
   },
   "outputs": [
    {
     "name": "stdout",
     "output_type": "stream",
     "text": [
      "relation \"vendors\" already exists\n",
      "\n"
     ]
    }
   ],
   "source": [
    "import psycopg2\n",
    "from sagas.profile.connections import config\n",
    "\n",
    "def create_tables():\n",
    "    \"\"\" create tables in the PostgreSQL database\"\"\"\n",
    "    commands = (\n",
    "        \"\"\"\n",
    "        CREATE TABLE vendors (\n",
    "            vendor_id SERIAL PRIMARY KEY,\n",
    "            vendor_name VARCHAR(255) NOT NULL\n",
    "        )\n",
    "        \"\"\",\n",
    "        \"\"\" CREATE TABLE parts (\n",
    "                part_id SERIAL PRIMARY KEY,\n",
    "                part_name VARCHAR(255) NOT NULL\n",
    "                )\n",
    "        \"\"\",\n",
    "        \"\"\"\n",
    "        CREATE TABLE part_drawings (\n",
    "                part_id INTEGER PRIMARY KEY,\n",
    "                file_extension VARCHAR(5) NOT NULL,\n",
    "                drawing_data BYTEA NOT NULL,\n",
    "                FOREIGN KEY (part_id)\n",
    "                REFERENCES parts (part_id)\n",
    "                ON UPDATE CASCADE ON DELETE CASCADE\n",
    "        )\n",
    "        \"\"\",\n",
    "        \"\"\"\n",
    "        CREATE TABLE vendor_parts (\n",
    "                vendor_id INTEGER NOT NULL,\n",
    "                part_id INTEGER NOT NULL,\n",
    "                PRIMARY KEY (vendor_id , part_id),\n",
    "                FOREIGN KEY (vendor_id)\n",
    "                    REFERENCES vendors (vendor_id)\n",
    "                    ON UPDATE CASCADE ON DELETE CASCADE,\n",
    "                FOREIGN KEY (part_id)\n",
    "                    REFERENCES parts (part_id)\n",
    "                    ON UPDATE CASCADE ON DELETE CASCADE\n",
    "        )\n",
    "        \"\"\")\n",
    "    conn = None\n",
    "    try:\n",
    "        # read the connection parameters\n",
    "        params = config()\n",
    "        # connect to the PostgreSQL server\n",
    "        conn = psycopg2.connect(**params)\n",
    "        cur = conn.cursor()\n",
    "        # create table one by one\n",
    "        for command in commands:\n",
    "            cur.execute(command)\n",
    "        # close communication with the PostgreSQL database server\n",
    "        cur.close()\n",
    "        # commit the changes\n",
    "        conn.commit()\n",
    "    except (Exception, psycopg2.DatabaseError) as error:\n",
    "        print(error)\n",
    "    finally:\n",
    "        if conn is not None:\n",
    "            conn.close()\n",
    "\n",
    "create_tables()\n",
    "\n",
    "# $ psql test\n",
    "# test=# \\dt"
   ]
  }
 ],
 "metadata": {
  "kernelspec": {
   "display_name": "Python 3",
   "language": "python",
   "name": "python3"
  },
  "language_info": {
   "codemirror_mode": {
    "name": "ipython",
    "version": 3
   },
   "file_extension": ".py",
   "mimetype": "text/x-python",
   "name": "python",
   "nbconvert_exporter": "python",
   "pygments_lexer": "ipython3",
   "version": "3.7.7"
  },
  "varInspector": {
   "cols": {
    "lenName": 16,
    "lenType": 16,
    "lenVar": 40
   },
   "kernels_config": {
    "python": {
     "delete_cmd_postfix": "",
     "delete_cmd_prefix": "del ",
     "library": "var_list.py",
     "varRefreshCmd": "print(var_dic_list())"
    },
    "r": {
     "delete_cmd_postfix": ") ",
     "delete_cmd_prefix": "rm(",
     "library": "var_list.r",
     "varRefreshCmd": "cat(var_dic_list()) "
    }
   },
   "types_to_exclude": [
    "module",
    "function",
    "builtin_function_or_method",
    "instance",
    "_Feature"
   ],
   "window_display": false
  }
 },
 "nbformat": 4,
 "nbformat_minor": 4
}
